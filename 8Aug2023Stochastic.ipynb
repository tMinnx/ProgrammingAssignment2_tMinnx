{
  "nbformat": 4,
  "nbformat_minor": 0,
  "metadata": {
    "colab": {
      "provenance": [],
      "include_colab_link": true
    },
    "kernelspec": {
      "name": "ir",
      "display_name": "R"
    },
    "language_info": {
      "name": "R"
    }
  },
  "cells": [
    {
      "cell_type": "markdown",
      "metadata": {
        "id": "view-in-github",
        "colab_type": "text"
      },
      "source": [
        "<a href=\"https://colab.research.google.com/github/tMinnx/ProgrammingAssignment2_tMinnx/blob/master/8Aug2023Stochastic.ipynb\" target=\"_parent\"><img src=\"https://colab.research.google.com/assets/colab-badge.svg\" alt=\"Open In Colab\"/></a>"
      ]
    },
    {
      "cell_type": "code",
      "execution_count": null,
      "metadata": {
        "id": "v9-CO2MaUH-M"
      },
      "outputs": [],
      "source": [
        "# Removes all objects from the current workspace\n",
        "rm(list=ls())\n",
        "\n",
        "## If deSolve package is not installed, you need to run the following line.\n",
        "install.packages(\"deSolve\")\n",
        "install.packages(\"ggplot2\")\n",
        "library(deSolve)\n",
        "library(ggplot2)\n"
      ]
    },
    {
      "cell_type": "markdown",
      "source": [
        "SIR compartments  \n",
        "S is the number susceptible  \n",
        "I is the number infectious  \n",
        "R is the number recovered  \n",
        "Total population N = S + I + R  \n",
        "\n",
        "#[Part I Deterministic SIR model]\n",
        "## Script A: for Question 1, 2 and 3\n",
        "### Question 1\n",
        "Calculate R0 for givenβ= 0.01 andγ=0.33.  \n",
        "### Question 2\n",
        "Let's run the R code to solve the deterministic SIR model.  \n",
        "### Question 3\n",
        "What condition can be required to determine epidemic sizes?  "
      ],
      "metadata": {
        "id": "U97mB_bvXCXb"
      }
    },
    {
      "cell_type": "code",
      "source": [
        "sir = function(time, y, params) {\n",
        "    S=y[1]\n",
        "    I=y[2]\n",
        "    R=y[3]\n",
        "    beta = params[[\"beta\"]]\n",
        "    gamma = params[[\"gamma\"]]\n",
        "    dS = -beta * S * I\n",
        "    dI = beta * S * I - gamma * I\n",
        "    dR = gamma * I\n",
        "\n",
        "    solution = c(dS,dI,dR)\n",
        "    return(list(solution))\n",
        "}\n",
        "## <<<Initial conditions>>>\n",
        "## (S(0), I(0), R(0)) = (99, 1, 0)\n",
        "S0 =99;I0=1;R0=0\n",
        "N =S0+I0+R0\n",
        "init = c(S =S0, I = I0, R=R0)\n",
        "times = seq(0, 50, by = 0.1)\n",
        "para = c(beta = 0.01, gamma = 0.33)\n",
        "\n",
        "out = ode(y = init, times = times, func = sir, parms = para)\n",
        "out = as.data.frame(out)\n",
        "#Basic reproduction number: R0\n",
        "(R0_repro=para[[\"beta\"]]*S0/para[[\"gamma\"]])\n",
        "### Final size\n",
        "# totalinf: The total number of infected cases\n",
        "totalinf = tail(out$R, 1)\n",
        "(final.size = totalinf/N)\n",
        "\n",
        "### Figure 1\n",
        "par(mfrow=c(1,2))\n",
        "matplot(out$time, out[,2:4], type = \"l\", xlab = \"Time\", ylab = \"Number of S(t), I(t), R(t)\", main = \"Deterministic SIR model\", lwd = 2, lty = 1, bty = \"l\", col = 2:4)\n",
        "legend(20,70, c(\"S(Susceptible)\", \"I(Infectious)\", \"R(Recovered)\"), lwd=2, pch = 1, col = 2:4)\n",
        "plot(out$time, out$I, xlab = \"Time\", ylab = \"Number of I(t)\",main = \"Deterministic SIR model\", lwd=1, pch = 1, col=3,xlim = c(0, 30), ylim = c(0,round(max(out$I))))\n",
        "\n",
        "\n",
        "## Script A END\n",
        "## Script for Question 1,2 and 3, select until here"
      ],
      "metadata": {
        "id": "KcxgEtN-URuC"
      },
      "execution_count": null,
      "outputs": []
    },
    {
      "cell_type": "markdown",
      "source": [
        "#[Part II Stochastic SIR model]\n",
        "## Script B: for Question 4, 5 and 6\n",
        "### Question 4\n",
        "What do you see in Plots Panel?  \n",
        "Run the stochastic model selecting Script B.    \n",
        "### Question 5\n",
        "Does epidemics always take off if R0 > 1?  \n",
        "You might see no epidemic.   \n",
        "Why can't you reproduce the same figure?\n",
        "### Question 6\n",
        "Derive the probability of extinction and calculate 1/R0 to compare each.   "
      ],
      "metadata": {
        "id": "rfNdAf6jUmHU"
      }
    },
    {
      "cell_type": "code",
      "source": [
        "\n",
        "## Stochastic SIR model using event-driven Gillespier's algorithm\n",
        "gillespieSIR = function(beta, gamma, S0, I0, R0)\n",
        "{\n",
        "  times = S = I = R = c()\n",
        "  # Step 1: initial condition:\n",
        "  k        = 1\n",
        "  S[k]     = S0\n",
        "  I[k]     = I0\n",
        "  R[k]     = R0\n",
        "  times[k] = 0\n",
        "  ## Run model:\n",
        "  keepgoing = TRUE\n",
        "\n",
        "  while(keepgoing)\n",
        "  {\n",
        "        # Step 2: calculate a1, a2\n",
        "        infection = beta * S[k] * I[k]\n",
        "        recovery = gamma * I[k]\n",
        "        # Step 3-(1): random number of time until next reaction\n",
        "        tau  = rexp(1, infection + recovery)\n",
        "        # Step 3-(4): random number of the index of reaction\n",
        "        eventtype  = sample(c('infection','recovery'), 1,\n",
        "                            prob = c(infection,recovery))\n",
        "        # Step 4: update time and state\n",
        "        times[k+1] = times[k] + tau\n",
        "        if(eventtype == 'infection')\n",
        "        {\n",
        "          S[k+1] = S[k] - 1\n",
        "          I[k+1] = I[k] + 1\n",
        "          R[k+1] = R[k]\n",
        "        }\n",
        "        if(eventtype == 'recovery')\n",
        "        {\n",
        "          S[k+1] = S[k]\n",
        "          I[k+1] = I[k] - 1\n",
        "          R[k+1] = R[k] + 1\n",
        "        }\n",
        "        k = k+1\n",
        "        # Step 5: decide when to stop\n",
        "        if(I[k] == 0) keepgoing = FALSE\n",
        "  }\n",
        "  output = data.frame(times = times, S = S, I = I, R = R)\n",
        "  return(output)\n",
        "}\n",
        "\n",
        "### Figure 2\n",
        "## (beta, gammma, S0, I0, R0) = (0.01, 0.33, 99, 1, 0)\n",
        "model1 = gillespieSIR(0.01, 0.33, 99, 1, 0)\n",
        "plot(model1$times, model1$I, xlab = \"Time\", ylab = \"Number of I(t)\", main = \"Stochastic SIR Model\", xlim = c(0, 30), ylim = c(0,60))\n"
      ],
      "metadata": {
        "id": "W5BdF3yROxB0"
      },
      "execution_count": null,
      "outputs": []
    },
    {
      "cell_type": "markdown",
      "source": [
        "## Script C: for Question 7\n",
        "### Question 7\n",
        "Run Script C and see the figure on your Plots Panel.  \n",
        "How does the figure on Plots Panel change, re-running Script C several times?  \n",
        "Script C automatically simulates the model 20 times and output the figure containing all of these results.   \n"
      ],
      "metadata": {
        "id": "WPeSuUqreisH"
      }
    },
    {
      "cell_type": "code",
      "source": [
        "num_sample <- 20\n",
        "sto_sol<- list()\n",
        "for (i in 1:num_sample) {\n",
        "  ## input : (beta, gamma,S0, I0, R0)\n",
        "  sto_sol[[i]] = gillespieSIR(0.01, 0.33, 99, 1, 0)\n",
        "  sto_sol[[i]]$nbr = i\n",
        "}\n",
        "\n",
        "#Figure 3\n",
        "Col <- rainbow(num_sample)\n",
        "par(mfrow=c(1,1))\n",
        "plot(sto_sol[[1]]$time, sto_sol[[1]]$I, type=\"l\", col=Col[1],\n",
        "     xlab = \"Time\", ylab = \"Number of I(t)\",\n",
        "     main = \"Stochastic SIR model\",\n",
        "     xlim = c(0, 30), ylim = c(0,60))\n",
        "for (i in 2:num_sample) {\n",
        "  lines(sto_sol[[i]]$time, sto_sol[[i]]$I, type = \"l\", col = Col[i])\n",
        "}\n",
        "\n",
        "#Figure 4\n",
        "sto_allsol = do.call(\"rbind\",sto_sol)\n",
        "ggplot(sto_allsol,aes(x=times,y=I)) +\n",
        "  geom_line(aes(x=times,y=I),linewidth=0.5) +\n",
        "  scale_fill_brewer(palette=\"Set1\")+\n",
        "  coord_cartesian(xlim = c(0, 30), ylim = c(0,60))+\n",
        "  #scale_y_continuous(expand=c(0,0),breaks=seq(0,2500,by=500))+\n",
        "  facet_wrap(~nbr, scales=\"free\")+\n",
        "  theme_bw(base_size=15)+\n",
        "  theme(panel.grid= element_blank())+\n",
        "  labs(x=\"Time\",y=\"Number of I(t)\",title=\"Stochastic SIR model\")\n"
      ],
      "metadata": {
        "id": "5pcaZtfRewse"
      },
      "execution_count": null,
      "outputs": []
    },
    {
      "cell_type": "markdown",
      "source": [
        "## Script D: for Question 8\n",
        "###  Question 8\n",
        "Select Script D and change the parameter β, and then run the program. Run the simulation 1000 times to calculate 50% quartile (median) for the total number of population infected with the stochastic SIR model as the following parameter β settings.    \n",
        "Then, quartiles of the total number of infection will appear at the final line on your Console Panel."
      ],
      "metadata": {
        "id": "9rTN2_Q9exnw"
      }
    },
    {
      "cell_type": "code",
      "source": [
        "num_sample <- 20\n",
        "sto_sol<- list()\n",
        "for (i in 1:num_sample) {\n",
        "  ## input : (beta, gamma,S0, I0, R0)\n",
        "  sto_sol[[i]] = gillespieSIR(0.01, 0.33, 99, 1, 0)\n",
        "}\n",
        "\n",
        "sto_finalsize <- numeric()\n",
        "for (i in 1:num_sample) {\n",
        "  sto_finalsize[i] <- (tail(sto_sol[[i]],1)[[\"R\"]])\n",
        "}\n",
        "\n",
        "#Figure 5\n",
        "barplot(height = table(factor(sto_finalsize,0:100))*100/num_sample,col = \"#539952\",\n",
        "        ylab = \"Probability(%)\",\n",
        "        xlab = \"Final size (total infected cases)\",\n",
        "        main = \"Distribution of final size\")\n",
        "\n",
        "# Quartiles for the total population infected\n",
        "quantile(sto_finalsize, p = c(0.025, 0.5, 0.975))"
      ],
      "metadata": {
        "id": "kEtFPKJye301"
      },
      "execution_count": null,
      "outputs": []
    },
    {
      "cell_type": "markdown",
      "source": [
        "## Script E: for Question 8"
      ],
      "metadata": {
        "id": "J4orQjH0e7Ap"
      }
    },
    {
      "cell_type": "code",
      "source": [
        "num_sample = 1000\n",
        "S0=99;I0=1;R0=0;N=S0+I0+R0\n",
        "betas = c(0.01,0.005,0.0033)\n",
        "n_betas=length(betas)\n",
        "\n",
        "sto_finalsize_all = data.frame(matrix(rep(0,num_sample*n_betas),ncol=n_betas))\n",
        "for (k in 1:n_betas){\n",
        "  for (i in 1:num_sample){\n",
        "    sto_solution = gillespieSIR(betas[k], 0.33, S0,I0,R0)\n",
        "    (sto_finalsize_all[i,k] <- tail(sto_solution, 1)[[\"R\"]])\n",
        "  }\n",
        "}\n",
        "\n",
        "freq_sto = list()\n",
        "for (k in 1:n_betas){\n",
        "   (freq_sto[[k]]=data.frame(beta=factor(betas[k]),table(factor(sto_finalsize_all[,k],0:N))/num_sample*100))\n",
        "}\n",
        "dist_final = do.call(\"rbind\",freq_sto)\n",
        "colnames(dist_final) = c(\"beta\",\"cases\",\"freq\")\n",
        "\n",
        "#Figure 6\n",
        "  # barplot for distribution of final size\n",
        "  fig_bar<-ggplot(dist_final,aes(x=cases,y=freq,fill=beta,color=beta)) +\n",
        "    geom_bar(aes(x=cases,y=freq,fill=beta),stat=\"identity\",position=position_dodge(),show.legend = TRUE) +\n",
        "    scale_x_discrete(breaks=seq(0,N,by=10))+\n",
        "    scale_fill_manual(name =\"R0\",labels = c(\"R0=3(beta=0.01)\", \"R0=1.5(beta=0.005)\", \"R0=1(beta=0.0033)\"), values = c(\"red\",\"blue\",\"#539952\")) +\n",
        "    scale_color_discrete(guide=FALSE) +\n",
        "    theme_bw(base_size=15)+\n",
        "    theme(legend.position = c(0.8, 0.8),panel.grid= element_blank())+\n",
        "    labs(x=\"Total infected cases\",y=\"Probability (%)\")\n",
        "  print(fig_bar)\n",
        "\n",
        "#Figure 7\n",
        "  # points for distribution of final size\n",
        "  fig_point<-ggplot(dist_final,aes(x=cases,y=freq,color=beta)) +\n",
        "    geom_point(aes(x=cases,y=freq,color=beta,size=freq),show.legend = TRUE) +\n",
        "    scale_x_discrete(breaks=seq(0,N,by=10))+\n",
        "    scale_color_manual(name =\"R0\",labels = c(\"R0=3(beta=0.01)\", \"R0=1.5(beta=0.005)\", \"R0=1(beta=0.0033)\"), values = c(\"red\",\"blue\",\"#539952\")) +\n",
        "    guides(colour = guide_legend(override.aes = list(size=5)))+\n",
        "    theme_bw(base_size=12)+\n",
        "    theme(legend.position = c(0.8, 0.5),panel.grid= element_blank())+\n",
        "    labs(x=\"Total infected cases\",y=\"Probability (%)\")\n",
        "  print(fig_point)\n"
      ],
      "metadata": {
        "id": "opy7_lcefBIr"
      },
      "execution_count": null,
      "outputs": []
    },
    {
      "cell_type": "markdown",
      "source": [
        "## Script F: for Question 9\n",
        "### Question 9\n",
        "Run Script F      \n",
        "Make sure what the figures might imply compare to the first stochastic SIR model set-up as (β, γ, S(0), I(0), R(0)) = (0.01, 0.33, 99, 1, 0);   \n",
        "1)\tif initial outbreak size is bigger (initialized as S(0) = 79 and I(0) = 21)   \n",
        "\n",
        "2)\tif population size is bigger (initialized as S(0) = 999 and I(0) = 1)\n"
      ],
      "metadata": {
        "id": "iZvFG-PXfFyq"
      }
    },
    {
      "cell_type": "code",
      "source": [
        "S0=79\n",
        "I0=21\n",
        "R0=0\n",
        "##Stochastic model\n",
        "num_sample <- 20\n",
        "sto_sol<- list()\n",
        "for (i in 1:num_sample) {\n",
        "  ## input : (beta, gamma,S0, I0, R0)\n",
        "  sto_sol[[i]] = gillespieSIR(0.01, 0.33, S0, I0, R0)\n",
        "}\n",
        "# Deterministic SIR model\n",
        "  times <- seq(0, 30, by = 0.1)\n",
        "  out <- as.data.frame(ode(y = c(S=S0, I=I0, R=R0), times = times, func = sir, parms = c(beta = 0.01, gamma = 0.33)))\n",
        "\n",
        "#Figure 8\n",
        "Col <- rainbow(num_sample)\n",
        "plot(sto_sol[[1]]$times, sto_sol[[1]]$I, type = \"l\", col = Col[1],xlab = \"Time\", ylab = \"Number of I(t)\",main = paste0(\"(S(0),I(0))=(\",S0,\",\",I0,\")\"),xlim = c(0, 30),ylim=c(0,round(max(out$I)*1.5)))\n",
        "for (i in 2:num_sample) {\n",
        "  lines(sto_sol[[i]]$times, sto_sol[[i]]$I, type=\"l\", col=Col[i])\n",
        "}\n",
        "  # deterministic model\n",
        "lines(times, out$I,type=\"l\",col=\"red\",lwd=2)"
      ],
      "metadata": {
        "id": "A8E4lM2LfL3P"
      },
      "execution_count": null,
      "outputs": []
    }
  ]
}